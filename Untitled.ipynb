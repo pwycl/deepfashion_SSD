{
 "cells": [
  {
   "cell_type": "code",
   "execution_count": 1,
   "metadata": {},
   "outputs": [
    {
     "name": "stdout",
     "output_type": "stream",
     "text": [
      "training begin\n",
      "Downloading ...\n",
      "From: https://github.com/yuyu2172/share-weights/releases/download/0.0.3/ssd_vgg16_imagenet_2017_06_09.npz\n",
      "To: /home/u11697/.chainer/dataset/_dl_cache/286b14d9978d61e62eece136d00359e5\n",
      "  %   Total    Recv       Speed  Time left\n",
      "100   76MiB   76MiB   9368KiB/s    0:00:00/home/u11697/.conda/envs/chainer_intel/lib/python3.6/site-packages/chainercv/links/model/ssd/ssd_vgg16.py:245: RuntimeWarning: cv2 is not installed on your environment. Pretrained models are trained with cv2. The performace may change with Pillow backend.\n",
      "  RuntimeWarning)\n",
      "Downloading ...\n",
      "From: http://host.robots.ox.ac.uk/pascal/VOC/voc2007/VOCtrainval_06-Nov-2007.tar\n",
      "To: /home/u11697/.chainer/dataset/_dl_cache/1b8e6e3f7ee4cdd7960310d1b25d2f4c\n",
      "  %   Total    Recv       Speed  Time left\n",
      "100  439MiB  439MiB    609KiB/s    0:00:00Downloading ...\n",
      "From: http://host.robots.ox.ac.uk/pascal/VOC/voc2012/VOCtrainval_11-May-2012.tar\n",
      "To: /home/u11697/.chainer/dataset/_dl_cache/92029705a99338d0932803388148a725\n",
      "  %   Total    Recv       Speed  Time left\n",
      "100 1907MiB 1907MiB    677KiB/s    0:00:00train len:  16551\n",
      "training end\n",
      "sub_train_fashion: line 8: fg: no job control\n"
     ]
    }
   ],
   "source": [
    "!bash sub_train_fashion"
   ]
  }
 ],
 "metadata": {
  "kernelspec": {
   "display_name": "Python 3 (Intel, 2018)",
   "language": "python",
   "name": "intel_distribution_of_python_3_2018"
  },
  "language_info": {
   "codemirror_mode": {
    "name": "ipython",
    "version": 3
   },
   "file_extension": ".py",
   "mimetype": "text/x-python",
   "name": "python",
   "nbconvert_exporter": "python",
   "pygments_lexer": "ipython3",
   "version": "3.6.2"
  }
 },
 "nbformat": 4,
 "nbformat_minor": 2
}
